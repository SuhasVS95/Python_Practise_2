{
 "cells": [
  {
   "cell_type": "markdown",
   "metadata": {
    "colab_type": "text",
    "id": "D-KgkVX3IZ-S"
   },
   "source": [
    "1.  Python Program to exchange the values of two numbers without using a temporary variable. "
   ]
  },
  {
   "cell_type": "code",
   "execution_count": 1,
   "metadata": {
    "colab": {},
    "colab_type": "code",
    "id": "yldf_YhdIZ-T"
   },
   "outputs": [
    {
     "data": {
      "text/plain": [
       "(15, 20)"
      ]
     },
     "execution_count": 1,
     "metadata": {},
     "output_type": "execute_result"
    }
   ],
   "source": [
    "def swap(a,b):\n",
    "    a=a-b\n",
    "    b=a+b\n",
    "    a=a-b\n",
    "    \n",
    "    if a<0:\n",
    "        return -(a),b\n",
    "    elif b<0:\n",
    "        return a,-(b)\n",
    "\n",
    "swap(20,15)"
   ]
  },
  {
   "cell_type": "markdown",
   "metadata": {
    "colab_type": "text",
    "id": "MrK3aZMGIZ-Y"
   },
   "source": [
    "2. Write a python code to replace all  \"a\"  with 2 for the given variable\n",
    "s = 'abc12321cba'"
   ]
  },
  {
   "cell_type": "code",
   "execution_count": 3,
   "metadata": {
    "colab": {},
    "colab_type": "code",
    "id": "J7rr7O5XIZ-Z"
   },
   "outputs": [
    {
     "data": {
      "text/plain": [
       "'2bc12321cb2'"
      ]
     },
     "execution_count": 3,
     "metadata": {},
     "output_type": "execute_result"
    }
   ],
   "source": [
    "s = 'abc12321cba'\n",
    "s.replace(\"a\",\"2\")"
   ]
  },
  {
   "cell_type": "markdown",
   "metadata": {
    "colab_type": "text",
    "id": "Zo8gMGlbIZ-g"
   },
   "source": [
    "3. Python code for to  remove first character in string?"
   ]
  },
  {
   "cell_type": "code",
   "execution_count": 20,
   "metadata": {
    "colab": {},
    "colab_type": "code",
    "id": "XTIKmVpiIZ-h"
   },
   "outputs": [
    {
     "data": {
      "text/plain": [
       "'bc12321cb'"
      ]
     },
     "execution_count": 20,
     "metadata": {},
     "output_type": "execute_result"
    }
   ],
   "source": [
    "s = 'abc12321cba'\n",
    "b1=s.strip(s[0])\n",
    "b1"
   ]
  },
  {
   "cell_type": "code",
   "execution_count": 21,
   "metadata": {},
   "outputs": [
    {
     "name": "stdout",
     "output_type": "stream",
     "text": [
      "2nd Way\n"
     ]
    },
    {
     "data": {
      "text/plain": [
       "'bc12321cba'"
      ]
     },
     "execution_count": 21,
     "metadata": {},
     "output_type": "execute_result"
    }
   ],
   "source": [
    "print(\"2nd Way\")\n",
    "k = 'abc12321cba'\n",
    "a_remove=s[1:len(k)]\n",
    "a_remove"
   ]
  },
  {
   "cell_type": "markdown",
   "metadata": {
    "colab_type": "text",
    "id": "XBhfFfEIIZ-n"
   },
   "source": [
    "4. Concatenate two strings  \n",
    "First Input : \"Great\" \n",
    "Second Input : \"Learning\"\n",
    "desired output :   \"Great Learning\""
   ]
  },
  {
   "cell_type": "code",
   "execution_count": 6,
   "metadata": {
    "colab": {},
    "colab_type": "code",
    "id": "qVhNDe9mIZ-p"
   },
   "outputs": [
    {
     "data": {
      "text/plain": [
       "'Great Learning'"
      ]
     },
     "execution_count": 6,
     "metadata": {},
     "output_type": "execute_result"
    }
   ],
   "source": [
    "FirstInput = \"Great \";SecondInput = \"Learning\"\n",
    "a=(FirstInput+SecondInput)\n",
    "a\n",
    "#print(\"{}\".format(a))\n",
    "#type(a)"
   ]
  },
  {
   "cell_type": "markdown",
   "metadata": {
    "colab_type": "text",
    "id": "W1CyejMTIZ-t"
   },
   "source": [
    "5. Repeat the string \"Great Learning\" 3 times \n",
    "desired output :  'Great Learning Great Learning Great Learning '"
   ]
  },
  {
   "cell_type": "code",
   "execution_count": 29,
   "metadata": {
    "colab": {},
    "colab_type": "code",
    "id": "6B83XYHVIZ-u"
   },
   "outputs": [
    {
     "name": "stdout",
     "output_type": "stream",
     "text": [
      "Great Learning Great Learning Great Learning \n"
     ]
    }
   ],
   "source": [
    "string1=\"Great Learning \"*3\n",
    "print(string1,sep=\" \")"
   ]
  },
  {
   "cell_type": "markdown",
   "metadata": {
    "colab_type": "text",
    "id": "4oblWnrSIZ-y"
   },
   "source": [
    "6. Create 3 variables a1,a2,a3. Assign the same value \" 4 \" to all the variables in a single line of code."
   ]
  },
  {
   "cell_type": "code",
   "execution_count": 31,
   "metadata": {
    "colab": {},
    "colab_type": "code",
    "id": "O7nH3nd-IZ-y"
   },
   "outputs": [
    {
     "name": "stdout",
     "output_type": "stream",
     "text": [
      "4;4;4\n"
     ]
    }
   ],
   "source": [
    "a1=a2=a3=4\n",
    "print(a1,a2,a3,sep=\";\")"
   ]
  },
  {
   "cell_type": "markdown",
   "metadata": {
    "colab_type": "text",
    "id": "fs_t4D-oIZ-2"
   },
   "source": [
    "7. Calculate BMI of a person using the height and weight.\n",
    "BMI = weight / (height **2)\n"
   ]
  },
  {
   "cell_type": "code",
   "execution_count": 1,
   "metadata": {
    "colab": {},
    "colab_type": "code",
    "id": "N_VZSoYjIZ-3"
   },
   "outputs": [
    {
     "name": "stdout",
     "output_type": "stream",
     "text": [
      "Your BMI is 15.959653994701394\n"
     ]
    }
   ],
   "source": [
    "def BMIfun(height,weight):\n",
    "    BMI=weight/(height**2)\n",
    "    print(\"Your BMI is\", BMI)\n",
    "    #return BMI\n",
    "\n",
    "BMIfun(1.77,50)"
   ]
  },
  {
   "cell_type": "markdown",
   "metadata": {
    "colab_type": "text",
    "id": "JgXK2m28IZ-7"
   },
   "source": [
    "8.Write a python program to calculate the area of circle."
   ]
  },
  {
   "cell_type": "code",
   "execution_count": 2,
   "metadata": {
    "colab": {},
    "colab_type": "code",
    "id": "m73v7qoCIZ-8"
   },
   "outputs": [
    {
     "name": "stdout",
     "output_type": "stream",
     "text": [
      "Enter the radius value : 5.3\n",
      "The Area of the circle with the radius 5.3 is 88.24733763933729\n"
     ]
    }
   ],
   "source": [
    "import math\n",
    "\n",
    "def CirclAreafun():\n",
    "    r=float(input(\"Enter the radius value : \"))\n",
    "    pie=math.pi\n",
    "    Area=pie*(r**2)\n",
    "\n",
    "    print(\"The Area of the circle with the radius\",r,\"is\",Area)\n",
    "\n",
    "CirclAreafun()"
   ]
  },
  {
   "cell_type": "markdown",
   "metadata": {
    "colab_type": "text",
    "id": "BHXFt9VwIZ_A"
   },
   "source": [
    "9.Calculate the simple interest\n",
    "simple_interest = p * n * r /100"
   ]
  },
  {
   "cell_type": "code",
   "execution_count": 3,
   "metadata": {
    "colab": {},
    "colab_type": "code",
    "id": "7wHLjXC4IZ_B"
   },
   "outputs": [
    {
     "name": "stdout",
     "output_type": "stream",
     "text": [
      "Enter the P value : 500\n",
      "Enter the N value : 2\n",
      "Enter the R value : 2.5\n",
      "Your Simple Interest for P= 500.0 , N= 2.0 , R= 2.5 is 25.0\n"
     ]
    }
   ],
   "source": [
    "def simpleinterest():\n",
    "    \n",
    "    p=float(input(\"Enter the P value : \"))\n",
    "    n=float(input(\"Enter the N value : \"))\n",
    "    r=float(input(\"Enter the R value : \"))\n",
    "    \n",
    "    SI=(p*n*r)/100\n",
    "    print(\"Your Simple Interest for P=\",p,\", N=\",n,\", R=\",r, \"is\",SI)\n",
    "\n",
    "simpleinterest()"
   ]
  },
  {
   "cell_type": "markdown",
   "metadata": {
    "colab_type": "text",
    "id": "afLADSCGIZ_G"
   },
   "source": [
    "10.Python code to calculate the square root of the given number(run time variable)"
   ]
  },
  {
   "cell_type": "code",
   "execution_count": 4,
   "metadata": {
    "colab": {},
    "colab_type": "code",
    "id": "XBTku4euIZ_H"
   },
   "outputs": [
    {
     "name": "stdout",
     "output_type": "stream",
     "text": [
      "Enter the P value : 9\n",
      "Square root of the number 9 is 3.0\n"
     ]
    }
   ],
   "source": [
    "def sqaureroot():\n",
    "    \n",
    "    p=int(input(\"Enter the P value : \"))\n",
    "    \n",
    "    SQ=p**0.5\n",
    "    print(\"Square root of the number\",p,\"is\",SQ)\n",
    "\n",
    "sqaureroot()"
   ]
  }
 ],
 "metadata": {
  "colab": {
   "collapsed_sections": [],
   "name": "Python-Inclass-Day1- Questions.ipynb",
   "provenance": []
  },
  "kernelspec": {
   "display_name": "Python 3",
   "language": "python",
   "name": "python3"
  },
  "language_info": {
   "codemirror_mode": {
    "name": "ipython",
    "version": 3
   },
   "file_extension": ".py",
   "mimetype": "text/x-python",
   "name": "python",
   "nbconvert_exporter": "python",
   "pygments_lexer": "ipython3",
   "version": "3.7.6"
  }
 },
 "nbformat": 4,
 "nbformat_minor": 1
}
